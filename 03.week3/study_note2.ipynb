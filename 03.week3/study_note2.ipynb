{
 "cells": [
  {
   "cell_type": "markdown",
   "id": "42757b72",
   "metadata": {},
   "source": [
    "# Python"
   ]
  },
  {
   "cell_type": "markdown",
   "id": "0d72c1af",
   "metadata": {},
   "source": [
    "---\n",
    "## Class\n",
    "\n",
    "데이터와 기능을 묶어둘 수 있는 자료형\n",
    "\n",
    "### 클래스 만들기"
   ]
  },
  {
   "cell_type": "code",
   "execution_count": null,
   "id": "7459de69",
   "metadata": {},
   "outputs": [],
   "source": [
    "class class_name:\n",
    "    def __init__(self):\n",
    "        self.var = value\n",
    "        \n",
    "    def function_name(self, parm):\n",
    "        code.."
   ]
  },
  {
   "cell_type": "markdown",
   "id": "c53701b1",
   "metadata": {},
   "source": [
    "#### IN IT\n",
    "생성자\n",
    "클래스 변수 안에 **변수**를 생성할 때 사용\n",
    "\n",
    "#### self\n",
    "클래스의 변수, 함수에 접근하기 위한 변수 \n"
   ]
  },
  {
   "cell_type": "code",
   "execution_count": 1,
   "id": "8bea5c03",
   "metadata": {},
   "outputs": [],
   "source": [
    "class SimpleTest:\n",
    "    def __init__(self):\n",
    "        self.my_data = 100\n",
    "        print('Call init!')"
   ]
  },
  {
   "cell_type": "code",
   "execution_count": 4,
   "id": "3b27fb64",
   "metadata": {},
   "outputs": [
    {
     "name": "stdout",
     "output_type": "stream",
     "text": [
      "Call init!\n",
      "100\n",
      "클래스 안의 변수도 변경이 가능합니다.\n"
     ]
    }
   ],
   "source": [
    "simple = SimpleTest()\n",
    "print(simple.my_data)\n",
    "\n",
    "simple.my_data = \"클래스 안의 변수도 변경이 가능합니다.\"\n",
    "print(simple.my_data)"
   ]
  },
  {
   "cell_type": "markdown",
   "id": "6a37dd8f",
   "metadata": {},
   "source": [
    "변수 안에 클래스를 넣어주게 되면 init 함수가 실행됩니다."
   ]
  },
  {
   "cell_type": "code",
   "execution_count": 3,
   "id": "4d1d7cc9",
   "metadata": {},
   "outputs": [
    {
     "name": "stdout",
     "output_type": "stream",
     "text": [
      "Call init!\n",
      "Call init!\n",
      "10\n",
      "20\n",
      "30\n"
     ]
    }
   ],
   "source": [
    "simple2 = SimpleTest()\n",
    "simple3 = SimpleTest()\n",
    "\n",
    "simple.my_data = 10\n",
    "simple2.my_data = 20\n",
    "simple3.my_data = 30\n",
    "\n",
    "print(simple.my_data)\n",
    "print(simple2.my_data)\n",
    "print(simple3.my_data)"
   ]
  },
  {
   "cell_type": "code",
   "execution_count": 6,
   "id": "229a71bc",
   "metadata": {},
   "outputs": [
    {
     "name": "stdout",
     "output_type": "stream",
     "text": [
      "hello\n",
      "멈춰!\n",
      "bye\n"
     ]
    }
   ],
   "source": [
    "class Test2:\n",
    "    def function_only(self, str):\n",
    "        if 'stop' in str:\n",
    "            print('멈춰!')\n",
    "            return\n",
    "        else: \n",
    "            print(str)\n",
    "            \n",
    "test2 = Test2()\n",
    "test2.function_only('hello')\n",
    "test2.function_only('stop')\n",
    "test2.function_only('bye')\n"
   ]
  },
  {
   "cell_type": "markdown",
   "id": "2e090fc1",
   "metadata": {},
   "source": [
    "class에 변수를 따로 생성하지 않는다면 init을 사용하지 않아도 class 생성이 가능하다."
   ]
  },
  {
   "cell_type": "markdown",
   "id": "a50f3262",
   "metadata": {},
   "source": [
    "클래스가 가진 변수를 사용하기 위해서는 self.classvar 형식으로 사용한다."
   ]
  },
  {
   "cell_type": "markdown",
   "id": "369e94e7",
   "metadata": {},
   "source": [
    "## 모듈, 라이브러리, 패키지\n",
    "\n",
    "\n",
    "한 파일에 너무 많은 기능이 들어가서 코드가 길어집니다.\n",
    "그럴때 모듈화를 시키면 나눠서 개발할 수 있습니다.\n",
    "\n",
    "기능을 나눠서 파일을 생성하는 겁니다.\n",
    "> 뉴스 검색 모듈, 엑셀저장 모듈, 이메일 보내는 모듈 ...\n"
   ]
  },
  {
   "cell_type": "markdown",
   "id": "37134bc2",
   "metadata": {},
   "source": [
    "`from` 파일 경로 `import` 변수 함수 혹은 클래스명"
   ]
  },
  {
   "cell_type": "code",
   "execution_count": 43,
   "id": "5a41cf5a",
   "metadata": {},
   "outputs": [],
   "source": [
    "# 이메일 모듈\n",
    "\n",
    "class Email:\n",
    "    def __init__(self):\n",
    "        self.from_email = ''\n",
    "        self.to_email = ''\n",
    "        self.subject = ''\n",
    "        self.contents = ''\n",
    "        \n",
    "    def send_mail(self):\n",
    "        print(f'From: {self.from_email}')\n",
    "        print(f'To: {self.to_email}')\n",
    "        print(f'Subjects: {self.subject}')\n",
    "        print(f'Contents: \\n{self.contents}')\n",
    "        "
   ]
  },
  {
   "cell_type": "code",
   "execution_count": null,
   "id": "cf990b06",
   "metadata": {},
   "outputs": [],
   "source": []
  },
  {
   "cell_type": "code",
   "execution_count": 44,
   "id": "c1713c68",
   "metadata": {},
   "outputs": [],
   "source": [
    "# 뉴스 모듈\n",
    "\n",
    "class News:\n",
    "    def __init__(self):\n",
    "        self.news = []\n",
    "        \n",
    "    def find_news(self,keyword):\n",
    "        for i in range(10):\n",
    "            self.news.append(f'|{i}. news: {keyword}|')\n",
    "        print('Collected')\n",
    "        return self.news"
   ]
  },
  {
   "cell_type": "code",
   "execution_count": 45,
   "id": "8ab022d7",
   "metadata": {},
   "outputs": [],
   "source": [
    "# 엑셀 모듈\n",
    "\n",
    "class Excel:\n",
    "    def __init__(self):\n",
    "        self.excel_file = \"\"\n",
    "    \n",
    "    def save_to_excel(self,data):\n",
    "        print(f'Save {len(data)} data: {self.excel_file}')"
   ]
  },
  {
   "cell_type": "code",
   "execution_count": 53,
   "id": "07176685",
   "metadata": {},
   "outputs": [
    {
     "name": "stdout",
     "output_type": "stream",
     "text": [
      "Collected\n",
      "\n",
      "From: seoweet21@naver.com\n",
      "To: seoweet21@gmail.com\n",
      "Subjects: Dear. Cat\n",
      "Contents: \n",
      "|0. news: cat|\n",
      "|1. news: cat|\n",
      "|2. news: cat|\n",
      "|3. news: cat|\n",
      "|4. news: cat|\n",
      "|5. news: cat|\n",
      "|6. news: cat|\n",
      "|7. news: cat|\n",
      "|8. news: cat|\n",
      "|9. news: cat|\n",
      "\n",
      "Save 10 data: result.xlsx\n"
     ]
    }
   ],
   "source": [
    "m_email = Email()\n",
    "m_news = News()\n",
    "m_excel = Excel()\n",
    "\n",
    "news_list = m_news.find_news('cat')\n",
    "\n",
    "m_email.from_email = \"seoweet21@naver.com\"\n",
    "m_email.to_email = \"seoweet21@gmail.com\"\n",
    "m_email.subject = \"Dear. Cat\"\n",
    "\n",
    "\n",
    "for news in news_list:\n",
    "    m_email.contents = m_email.contents + news +'\\n'\n",
    "    \n",
    "m_email.send_mail()\n",
    "\n",
    "m_excel.excel_file = 'result.xlsx'\n",
    "m_excel.save_to_excel(news_list)\n"
   ]
  },
  {
   "cell_type": "markdown",
   "id": "7075c4c3",
   "metadata": {},
   "source": [
    "모듈 안의 기능을 가져오는 경우\n",
    "- from모듈 import 모듈 안의 함수 및 클래스\n",
    "\n",
    "모듈 자체를 가져오는 경우\n",
    "- import 모듈\n",
    "\n",
    "    `변수 = 모듈명.모듈안의 함수 및 클래스`\n",
    "    \n",
    "모듈이 들어있는 파일에서 모듈에서 기능을 가져오는 경우\n",
    "- from 폴더명`.`모듈명 import 모듈 안의 함수 및 클래스\n"
   ]
  },
  {
   "cell_type": "markdown",
   "id": "8ff63bb6",
   "metadata": {},
   "source": [
    "### 모듈안에서 테스트 하기\n"
   ]
  },
  {
   "cell_type": "code",
   "execution_count": 40,
   "id": "2bdc91ba",
   "metadata": {},
   "outputs": [
    {
     "name": "stdout",
     "output_type": "stream",
     "text": [
      "__main__\n"
     ]
    }
   ],
   "source": [
    "class Email:\n",
    "    def __init__(self):\n",
    "        self.from_email = ''\n",
    "        self.to_email = ''\n",
    "        self.subject = ''\n",
    "        self.contents = ''\n",
    "        \n",
    "    def send_mail(self):\n",
    "        print(f'From: {self.from_email}')\n",
    "        print(f'To: {self.to_email}')\n",
    "        print(f'Subjects: {self.subject}')\n",
    "        print(f'Contents: \\n{self.contents}')\n",
    "        \n",
    "\n",
    "print(__name__)"
   ]
  },
  {
   "cell_type": "markdown",
   "id": "2b73cd9f",
   "metadata": {},
   "source": [
    "__name__ 내장변수 "
   ]
  },
  {
   "cell_type": "code",
   "execution_count": 59,
   "id": "766d132d",
   "metadata": {},
   "outputs": [
    {
     "name": "stdout",
     "output_type": "stream",
     "text": [
      "From: testing\n",
      "To: testing\n",
      "Subjects: testing\n",
      "Contents: \n",
      "testing\n",
      "새로운 변수 생성이 가능합니다.\n"
     ]
    }
   ],
   "source": [
    "class Email:\n",
    "    def __init__(self):\n",
    "        self.from_email = ''\n",
    "        self.to_email = ''\n",
    "        self.subject = ''\n",
    "        self.contents = ''\n",
    "        \n",
    "    def send_mail(self):\n",
    "        print(f'From: {self.from_email}')\n",
    "        print(f'To: {self.to_email}')\n",
    "        print(f'Subjects: {self.subject}')\n",
    "        print(f'Contents: \\n{self.contents}')\n",
    "        \n",
    "        \n",
    "        \n",
    "# 모듈 안의 테스트 코드\n",
    "if __name__ == '__main__':\n",
    "    e = Email()\n",
    "    e.new = \"객체 안에서 새로운 변수 생성이 가능합니다.\"\n",
    "    e.from_email = 'testing'\n",
    "    e.to_email = 'testing'\n",
    "    e.subject = 'testing'\n",
    "    e.contents = 'testing'\n",
    "    e.send_mail()\n",
    "    print(e.new)"
   ]
  },
  {
   "cell_type": "markdown",
   "id": "10ead48e",
   "metadata": {},
   "source": [
    "`__name__`을 사용하였을 때 모듈안에서는 `__main__` 을 나타낸 것을 알 수 있습니다.\n",
    "\n",
    "이를 활용하여 모듈을 불러와서 테스트 하지 않고 모듈 안에서 테스트를 할 수 있는 모듈 안의 테스트 코드를 작성할 수 있습니다."
   ]
  },
  {
   "cell_type": "markdown",
   "id": "042b1dfe",
   "metadata": {},
   "source": [
    "#### 객체 안에 정보 추가\n",
    "객체 이름.변수 이름 = \"변수의 값\"\n",
    "\n",
    "으로 객체 안에 새로운 변수를 생성할 수 있습니다.   \n",
    "이는 JS에서도 똑같이 적용합니다."
   ]
  },
  {
   "cell_type": "markdown",
   "id": "1f8189e3",
   "metadata": {},
   "source": [
    "---\n",
    "## 텍스트 파일 다루기\n",
    "\n",
    "### 파일 읽기\n"
   ]
  },
  {
   "cell_type": "markdown",
   "id": "28b624a0",
   "metadata": {},
   "source": [
    "파일을 읽거나 쓰기 위해 불러올 때는 `open(파일, 'w|r|a'(모드)`형식을 사용합니다."
   ]
  },
  {
   "cell_type": "code",
   "execution_count": 69,
   "id": "05a7ef2d",
   "metadata": {},
   "outputs": [
    {
     "name": "stdout",
     "output_type": "stream",
     "text": [
      "안녕하세요\n",
      "텍스트 파일테스트 중입니다.\n"
     ]
    }
   ],
   "source": [
    "data1 = open('text_test.txt', 'r', encoding=\"UTF-8\")\n",
    "data = data1.read()\n",
    "print(data)"
   ]
  },
  {
   "cell_type": "markdown",
   "id": "9d73d575",
   "metadata": {},
   "source": [
    "read 함수는 모든 글을 전부다 가져 오기 때문에    \n",
    "만약 text 파일의 용량이 크다면 시스템이 느려질 수 있습니다.\n",
    "\n",
    "그렇기에 한줄씩 읽어오는 함수를 사용 할 수도 있습니다."
   ]
  },
  {
   "cell_type": "code",
   "execution_count": 70,
   "id": "94edf47c",
   "metadata": {},
   "outputs": [
    {
     "name": "stdout",
     "output_type": "stream",
     "text": [
      "안녕하세요\n",
      "\n"
     ]
    }
   ],
   "source": [
    "data1 = open('text_test.txt', 'r', encoding=\"UTF-8\")\n",
    "data = data1.readline()\n",
    "print(data)"
   ]
  },
  {
   "cell_type": "markdown",
   "id": "be113aba",
   "metadata": {},
   "source": [
    "첫번째 문장 뒤에는 눈에 보이지 않지만 줄 바꿈이 포함되어 있기 빼문에 개행이 나타납니다.\n",
    "\n",
    "이를 제거하고 싶다면 문자열의 .strip() 함수를 이용해 줍니다."
   ]
  },
  {
   "cell_type": "code",
   "execution_count": 72,
   "id": "0c7c5552",
   "metadata": {},
   "outputs": [
    {
     "name": "stdout",
     "output_type": "stream",
     "text": [
      "안녕하세요\n"
     ]
    }
   ],
   "source": [
    "data1 = open('text_test.txt', 'r', encoding=\"UTF-8\")\n",
    "data = data1.readline().strip()\n",
    "print(data)"
   ]
  },
  {
   "cell_type": "code",
   "execution_count": 75,
   "id": "101d8b90",
   "metadata": {},
   "outputs": [
    {
     "name": "stdout",
     "output_type": "stream",
     "text": [
      "안녕하세요\n",
      "텍스트 파일테스트 중입니다.\n",
      "3번째 줄입니다.\n",
      "4번째 줄입니다.\n",
      "readline 테스트 중입니다.\n",
      "\n"
     ]
    }
   ],
   "source": [
    "data1 = open('text_test.txt', 'r', encoding=\"UTF-8\")\n",
    "\n",
    "alli = 'any'\n",
    "\n",
    "# alli에 한줄 씩 넣어 출력하는 반복문입니다.\n",
    "while alli: #글자가 포함된 문자열이면 참이기에 반복합니다.\n",
    "    alli = data1.readline().strip()\n",
    "    print(alli)"
   ]
  },
  {
   "cell_type": "markdown",
   "id": "11ac34bd",
   "metadata": {},
   "source": [
    "`readline`을 보면 알 수 있듯이 다음 줄로 넘어가게 됩니다.\n",
    "\n",
    "그렇다면 `rede line`을 두번 실행해 보면 어떻게 될까요?"
   ]
  },
  {
   "cell_type": "code",
   "execution_count": 102,
   "id": "1dba38a4",
   "metadata": {},
   "outputs": [
    {
     "name": "stdout",
     "output_type": "stream",
     "text": [
      "테스트 중입니다. 자꾸 이전 글이 삭제됩니다.\n",
      "\n"
     ]
    }
   ],
   "source": [
    "data1 = open('text_test.txt', 'r', encoding=\"UTF-8\")\n",
    "\n",
    "for i in range(2):\n",
    "    data = data1.readline().strip()\n",
    "    print(data)"
   ]
  },
  {
   "cell_type": "code",
   "execution_count": 97,
   "id": "f05f4b5c",
   "metadata": {},
   "outputs": [
    {
     "name": "stdout",
     "output_type": "stream",
     "text": [
      "\n"
     ]
    }
   ],
   "source": [
    "data = data1.readline().strip()\n",
    "print(data)"
   ]
  },
  {
   "cell_type": "markdown",
   "id": "c2685590",
   "metadata": {},
   "source": [
    "`readline`은 마치 커서가 움직이듯이 한줄씩 읽어오게 됩니다."
   ]
  },
  {
   "cell_type": "markdown",
   "id": "476067d3",
   "metadata": {},
   "source": [
    "### 파일 쓰기"
   ]
  },
  {
   "cell_type": "code",
   "execution_count": 112,
   "id": "c53e1c67",
   "metadata": {
    "scrolled": true
   },
   "outputs": [
    {
     "name": "stdout",
     "output_type": "stream",
     "text": [
      "입력해주세요.모든 파일이 지워지고 재 작성됩니다.\n"
     ]
    }
   ],
   "source": [
    "user_input = input(\"입력해주세요.\")\n",
    "test = open('write_test.txt', 'w', encoding=\"UTF-8\")\n",
    "\n",
    "test.write(f\"{user_input}\\n\")\n",
    "test.close()"
   ]
  },
  {
   "cell_type": "markdown",
   "id": "8237a9ef",
   "metadata": {},
   "source": [
    "`close()` 함수를 실행하지 않는다면 오류가 발생합니다.\n",
    "\n",
    "쓰기 모드를 사용하면 이전 내용이 삭제되고 새로운 내용으로 생성됩니다."
   ]
  },
  {
   "cell_type": "code",
   "execution_count": 115,
   "id": "8eaa98f6",
   "metadata": {},
   "outputs": [
    {
     "name": "stdout",
     "output_type": "stream",
     "text": [
      "입력해주세요.문장이 추가됩니다.\n"
     ]
    }
   ],
   "source": [
    "user_input = input(\"입력해주세요.\")\n",
    "test = open('write_test.txt', 'a', encoding=\"UTF-8\")\n",
    "\n",
    "test.write(f\"{user_input}\\n\")\n",
    "test.close()\n"
   ]
  },
  {
   "cell_type": "markdown",
   "id": "7eb08050",
   "metadata": {},
   "source": [
    "`a`ppend 모드 입니다. \n",
    "\n",
    "a모드는 기존에 있던 문장에 새로운 글을 추가해 줍니다."
   ]
  },
  {
   "cell_type": "markdown",
   "id": "3c890259",
   "metadata": {},
   "source": [
    "### CSV 파일\n",
    "\n",
    "comma sepaeated values\n",
    ",와 컬럼을 개행문자로 행을 구분한다.\n",
    "\n",
    "엑셀과 유사한 형태로 읽고 쓸 수 있다."
   ]
  },
  {
   "cell_type": "code",
   "execution_count": 138,
   "id": "8baecffc",
   "metadata": {},
   "outputs": [
    {
     "name": "stdout",
     "output_type": "stream",
     "text": [
      "svc에 데이터를 입력합니다.34,56,6\n"
     ]
    },
    {
     "data": {
      "text/plain": [
       "8"
      ]
     },
     "execution_count": 138,
     "metadata": {},
     "output_type": "execute_result"
    }
   ],
   "source": [
    "svc_make = input(\"svc에 데이터를 입력합니다.\")\n",
    "\n",
    "svc_file = open(\"svc_test.svc\",\"a\",encoding=\"UTF-8\")\n",
    "svc_file.write(f\"{svc_make}\\n\")"
   ]
  },
  {
   "cell_type": "code",
   "execution_count": 140,
   "id": "188ef1df",
   "metadata": {
    "scrolled": true
   },
   "outputs": [
    {
     "name": "stdout",
     "output_type": "stream",
     "text": [
      "data1\n",
      "data2\n",
      "data3\n",
      "*******\n",
      "cat1\n",
      "car2\n",
      "cat3\n",
      "*******\n",
      "dog1\n",
      "dog2\n",
      "dog3\n",
      "*******\n",
      "dog1\n",
      "dog2\n",
      "dog3\n",
      "*******\n",
      "123\n",
      "345\n",
      "456\n",
      "66585\n",
      "2342\n",
      "*******\n",
      "강아지1\n",
      "고양이1\n",
      "멍뭉이\n",
      "*******\n"
     ]
    }
   ],
   "source": [
    "svc_reader = open(\"svc_test.svc\", \"r\", encoding=\"UTF-8\")\n",
    "\n",
    "for i in svc_reader.readlines():\n",
    "    data = i.strip().split(',')\n",
    "    for i in data:\n",
    "        print(i)\n",
    "    print('*'*7)\n",
    "    "
   ]
  },
  {
   "cell_type": "markdown",
   "id": "ed916d14",
   "metadata": {},
   "source": [
    "`readlines()` 개행을 기준으로 문장을 나눠 리스트에 넣어주는 함수입니다."
   ]
  },
  {
   "cell_type": "code",
   "execution_count": 143,
   "id": "42b5cec3",
   "metadata": {},
   "outputs": [],
   "source": [
    "values = []\n",
    "\n",
    "values.append(('고양이','강아지'))\n",
    "values.append(('여자','남자'))\n",
    "values.append(('책', '연필'))\n",
    "\n",
    "dataList = open(\"svc_test2.svc\",'w', encoding=\"UTF-8\")\n",
    "\n",
    "for i in values:\n",
    "    data = ','.join(i)\n",
    "    dataList.write(f'{data}\\n')\n",
    "dataList.close()"
   ]
  },
  {
   "cell_type": "markdown",
   "id": "875312a5",
   "metadata": {},
   "source": [
    "join은 문자열로 spilt는 리스트로 값을 반환합니다."
   ]
  },
  {
   "cell_type": "markdown",
   "id": "4b8318b3",
   "metadata": {},
   "source": [
    "## 패키지 설치 도구\n"
   ]
  },
  {
   "cell_type": "code",
   "execution_count": 146,
   "id": "8d2581f1",
   "metadata": {},
   "outputs": [
    {
     "name": "stdout",
     "output_type": "stream",
     "text": [
      "Requirement already satisfied: openpyxl in c:\\users\\seowe\\anaconda3\\lib\\site-packages (3.0.7)\n",
      "Requirement already satisfied: et-xmlfile in c:\\users\\seowe\\anaconda3\\lib\\site-packages (from openpyxl) (1.0.1)\n",
      "Note: you may need to restart the kernel to use updated packages.\n"
     ]
    }
   ],
   "source": [
    "pip install openpyxl"
   ]
  },
  {
   "cell_type": "markdown",
   "id": "d40c7a4a",
   "metadata": {},
   "source": [
    "특정 기능을 여러 클래스로 구성해 놓은 코드 집합"
   ]
  },
  {
   "cell_type": "code",
   "execution_count": 147,
   "id": "5804ffa6",
   "metadata": {},
   "outputs": [],
   "source": [
    "import openpyxl"
   ]
  },
  {
   "cell_type": "markdown",
   "id": "47af026e",
   "metadata": {},
   "source": [
    "오픈파이엑셀 패키지에서 함수를 가져옵니다.\n",
    "\n",
    "`load_workbook`(파일)은 엑셀에 있는 데이터로 클래스 변수로 생성합니다.\n",
    "엑셀시트에 대한 정보들도 다 들어가있다.\n",
    "\n",
    "> .active는 가장 마지막으로 활성화 되어있던 시트의 정보가 담깁니다.\n",
    "> 그렇게 담긴 변수는 인덱스\\[셀주소\\]를 사용해서 원하는 데이터를 가져올 수 있습니다."
   ]
  },
  {
   "cell_type": "markdown",
   "id": "539b7cd8",
   "metadata": {},
   "source": [
    "하나의 cell에는 데이터말고도 테두리의 유무 배경색등 다양한 정보를 담고 있습니다. \n",
    "\n",
    "그렇기에 데이터의 값을 가져오고 싶다면   \n",
    "cell.value로 데이터를 가져와야 합니다."
   ]
  },
  {
   "cell_type": "code",
   "execution_count": 159,
   "id": "de09e837",
   "metadata": {},
   "outputs": [
    {
     "name": "stdout",
     "output_type": "stream",
     "text": [
      "name\n",
      "서우리\n",
      "age\n",
      "25.0\n"
     ]
    }
   ],
   "source": [
    "from openpyxl import load_workbook\n",
    "\n",
    "wb = load_workbook('exel_test.xlsx')\n",
    "data = wb.active\n",
    "\n",
    "print(data['A1'].value)\n",
    "print(data['A2'].value)\n",
    "print(data['B1'].value)\n",
    "print(data['B2'].value)"
   ]
  },
  {
   "cell_type": "markdown",
   "id": "f5dafabe",
   "metadata": {},
   "source": [
    "#### 열과 행을 가져오는 방법"
   ]
  },
  {
   "cell_type": "code",
   "execution_count": 160,
   "id": "3a4ff8cf",
   "metadata": {},
   "outputs": [
    {
     "name": "stdout",
     "output_type": "stream",
     "text": [
      "서우리\n",
      "25.0\n",
      "developer\n",
      "********************\n",
      "name\n",
      "서우리\n",
      "서두리\n",
      "서마리\n"
     ]
    }
   ],
   "source": [
    "from openpyxl import load_workbook\n",
    "\n",
    "wb = load_workbook('exel_test.xlsx')\n",
    "data = wb.active\n",
    "\n",
    "row = data['2']\n",
    "for cell in row:\n",
    "    print(cell.value)\n",
    "    \n",
    "print(\"*\"*20)\n",
    "\n",
    "col = data['A']\n",
    "for cell in col:\n",
    "    print(cell.value)"
   ]
  },
  {
   "cell_type": "markdown",
   "id": "d9cb359a",
   "metadata": {},
   "source": [
    "#### sheet를 지정해서 가져오는 방법\n",
    "\n",
    "엑셀이 담긴 객체의 인덱싱을 이용해서 sheet를 지정해서 담아올 수 있다."
   ]
  },
  {
   "cell_type": "code",
   "execution_count": 162,
   "id": "68f0f4ce",
   "metadata": {},
   "outputs": [
    {
     "name": "stdout",
     "output_type": "stream",
     "text": [
      "name2\n",
      "age2\n",
      "서우리2\n",
      "252.0\n"
     ]
    }
   ],
   "source": [
    "from openpyxl import load_workbook\n",
    "\n",
    "wb = load_workbook('exel_test.xlsx')\n",
    "data = wb['sheet_test']\n",
    "\n",
    "area = data['A1:B2']\n",
    "for row in area:\n",
    "    for cell in row:\n",
    "          print(cell.value)   "
   ]
  },
  {
   "cell_type": "markdown",
   "id": "1c7b1f32",
   "metadata": {},
   "source": [
    "슬라이싱을 이용해서 행과 열의 정보를 한꺼번에 가져옵니다.   \n",
    "\n",
    "튜플의 형태로 가져오게 됩니다.   \n",
    "데이터를 수정하지 않기 위해서\n",
    "\n",
    "((A1,A2),(B1,B2))형식으로 행끼리 묶어서 가져오게 됩니다."
   ]
  },
  {
   "cell_type": "code",
   "execution_count": 163,
   "id": "3c63cf52",
   "metadata": {},
   "outputs": [
    {
     "name": "stdout",
     "output_type": "stream",
     "text": [
      "********************\n",
      "name2\n",
      "서우리2\n",
      "서두리2\n",
      "서마리2\n",
      "age2\n",
      "252.0\n",
      "232.0\n",
      "202.0\n"
     ]
    }
   ],
   "source": [
    "print(\"*\"*20)\n",
    "\n",
    "cols = data['A:B']\n",
    "for col in cols:\n",
    "    for cell in col:\n",
    "          print(cell.value)"
   ]
  },
  {
   "cell_type": "markdown",
   "id": "5e561bc8",
   "metadata": {},
   "source": [
    "((A1,A2,A3,A4),(B1,B2,B3,B4))"
   ]
  },
  {
   "cell_type": "code",
   "execution_count": 164,
   "id": "27d72c5c",
   "metadata": {},
   "outputs": [
    {
     "name": "stdout",
     "output_type": "stream",
     "text": [
      "********************\n",
      "name2\n",
      "age2\n",
      "position2\n",
      "서우리2\n",
      "252.0\n",
      "developer2\n"
     ]
    }
   ],
   "source": [
    "print(\"*\"*20)\n",
    "\n",
    "rows = data['1:2']\n",
    "for row in rows:\n",
    "    for cell in row:\n",
    "          print(cell.value)"
   ]
  },
  {
   "cell_type": "markdown",
   "id": "38dbee6b",
   "metadata": {},
   "source": [
    "((A1,B1,C1),(A2,B2,C2)(A3,B3,C3))"
   ]
  },
  {
   "cell_type": "markdown",
   "id": "f38aa7cc",
   "metadata": {},
   "source": [
    "행은 1,2,3... / 열은 A,B,C..."
   ]
  },
  {
   "cell_type": "markdown",
   "id": "dcfb8cb4",
   "metadata": {},
   "source": [
    "### 엑셀 파일 생성하기"
   ]
  },
  {
   "cell_type": "code",
   "execution_count": 178,
   "id": "216a4d8b",
   "metadata": {},
   "outputs": [],
   "source": [
    "from openpyxl import Workbook"
   ]
  },
  {
   "cell_type": "markdown",
   "id": "4129bf4d",
   "metadata": {},
   "source": [
    "`workbook`은 엑셀 파일을 나타냅니다.   \n",
    "Workbook이라는 클래스를 가져와 변수를 생성합니다.\n",
    "\n",
    "현재 존재하는 엑셀파일을 불러낼 때는 `load_workbook`"
   ]
  },
  {
   "cell_type": "code",
   "execution_count": 179,
   "id": "5aa07ea9",
   "metadata": {},
   "outputs": [],
   "source": [
    "wb = Workbook()\n",
    "ws = wb.create_sheet('sheet_test2')\n",
    "\n",
    "ws['A1'] = \"고양이\"\n",
    "ws['B1'] = \"강아지\"\n",
    "\n",
    "wb.save(\"result.xlsx\")"
   ]
  },
  {
   "cell_type": "markdown",
   "id": "b2f02ea3",
   "metadata": {},
   "source": [
    "`append` 행 단위로 넣을 수 있는 함수가 존재한다."
   ]
  },
  {
   "cell_type": "code",
   "execution_count": 181,
   "id": "6485f52d",
   "metadata": {},
   "outputs": [],
   "source": [
    "ws2 = wb.create_sheet('sheet_test3')\n",
    "\n",
    "ws2.append(['Number','Name'])\n",
    "\n",
    "for row in range(10):\n",
    "    ws2.append([row,f\"{str(row)} data\"])\n",
    "    \n",
    "wb.save(\"result.xlsx\")"
   ]
  },
  {
   "cell_type": "markdown",
   "id": "3b1feed9",
   "metadata": {},
   "source": [
    "### 큰 엑셀 파일 내용 읽기\n",
    "\n",
    "load_workbook의 문제점\n",
    "- 모든 엑셀의 내용을 파이썬으로 한번에 가져옴\n",
    "    - 가져오는 시간이 느립니다.\n",
    "    - 가져오지 못하는 파일도 있을 수 있습니다.\n",
    "    \n",
    "> 원하는 부분만을 가져 올 수 있도록 할 수 있습니다."
   ]
  },
  {
   "cell_type": "code",
   "execution_count": 184,
   "id": "4ca57d46",
   "metadata": {},
   "outputs": [
    {
     "name": "stdout",
     "output_type": "stream",
     "text": [
      "(<Cell 'sheet_test3'.A1>, <Cell 'sheet_test3'.B1>)\n",
      "(<Cell 'sheet_test3'.A2>, <Cell 'sheet_test3'.B2>)\n",
      "(<Cell 'sheet_test3'.A3>, <Cell 'sheet_test3'.B3>)\n",
      "(<Cell 'sheet_test3'.A4>, <Cell 'sheet_test3'.B4>)\n",
      "(<Cell 'sheet_test3'.A5>, <Cell 'sheet_test3'.B5>)\n",
      "(<Cell 'sheet_test3'.A6>, <Cell 'sheet_test3'.B6>)\n",
      "(<Cell 'sheet_test3'.A7>, <Cell 'sheet_test3'.B7>)\n",
      "(<Cell 'sheet_test3'.A8>, <Cell 'sheet_test3'.B8>)\n",
      "(<Cell 'sheet_test3'.A9>, <Cell 'sheet_test3'.B9>)\n",
      "(<Cell 'sheet_test3'.A10>, <Cell 'sheet_test3'.B10>)\n",
      "(<Cell 'sheet_test3'.A11>, <Cell 'sheet_test3'.B11>)\n"
     ]
    }
   ],
   "source": [
    "from openpyxl import load_workbook\n",
    "\n",
    "wb = load_workbook(\"result.xlsx\")\n",
    "data = wb[\"sheet_test3\"]\n",
    "\n",
    "for row in data.iter_rows():\n",
    "    print(row)"
   ]
  },
  {
   "cell_type": "markdown",
   "id": "f05de686",
   "metadata": {},
   "source": [
    "`iter_rows` 함수로 시트에 존재하는 모든 행을 가져 올 수 있습니다.\n",
    "\n",
    "만약 행의 수가 무수히 많았다면 문제가 생겼을 수 도 있습니다."
   ]
  },
  {
   "cell_type": "code",
   "execution_count": 223,
   "id": "e321990d",
   "metadata": {},
   "outputs": [
    {
     "name": "stdout",
     "output_type": "stream",
     "text": [
      "Number\n",
      "**********\n",
      "0\n",
      "**********\n"
     ]
    }
   ],
   "source": [
    "from openpyxl import load_workbook\n",
    "\n",
    "wb = load_workbook(\"result.xlsx\",read_only=True)\n",
    "data = wb[\"sheet_test3\"]\n",
    "\n",
    "for row in data.iter_rows(max_col=1,max_row=2):\n",
    "    for col in row:\n",
    "        print(col.value)\n",
    "    print(\"*\"*10)"
   ]
  },
  {
   "cell_type": "markdown",
   "id": "6a2ca656",
   "metadata": {},
   "source": [
    "`read_only=True`함수로 셀을 읽을 수 만 있는 셀로 변경합니다.\n",
    "\n",
    "`read_only`로 엑셀파일을 가져온 경우 `sheet.iter_rows()` 함수를 이용해 줍니다.\n",
    "> 열 단위로는 가져올 수 없습니다."
   ]
  },
  {
   "cell_type": "markdown",
   "id": "4b65ba4b",
   "metadata": {},
   "source": [
    "`iter_rows()`에는 인자로    \n",
    "(max_col=1,max_row=2) 최대값, 최소값을 지정할 수 있습니다."
   ]
  },
  {
   "cell_type": "markdown",
   "id": "19078d16",
   "metadata": {},
   "source": [
    "### 이메일 자동화\n",
    "\n",
    "#### 이메일 설정 정보\n",
    "\n",
    "- SMTP 서버주소: 메일 보내는 서버 주소\n",
    "- SMTP 서버포트: SMTP 주소로 갈 때 쓸 길 번호\n",
    "- ~~POP 서버주소: 메일 받는 서버 주소~~\n",
    "- ~~POP서버포트: POP 주소로 갈 때 쓸 길 번호~~\n",
    "- 계정정보: 아이디 비밀번호"
   ]
  },
  {
   "cell_type": "markdown",
   "id": "eb47f920",
   "metadata": {},
   "source": [
    ">SMTP 보내기\n",
    ">\n",
    ">SMTP에 보내기 위해서   \n",
    ">메일에 정해진 양식이 있다.\n",
    "\n",
    "POP 받기 (강의에서 다뤄지지 않는다.)"
   ]
  },
  {
   "cell_type": "markdown",
   "id": "eabcff63",
   "metadata": {},
   "source": [
    "### 이메일 보내기\n",
    "\n",
    "이메일 패키지는 파이썬에 포함된 기본 패키지들 입니다."
   ]
  },
  {
   "cell_type": "code",
   "execution_count": 212,
   "id": "b6f53401",
   "metadata": {},
   "outputs": [],
   "source": [
    "from email.mime.text import MIMEText\n",
    "from email.mime.multipart import MIMEMultipart\n",
    "import smtplib\n",
    "import re\n",
    "\n",
    "SMTP_SERVER = 'smtp.gmail.com' #구글에서 알려준 접근 주소\n",
    "SMTP_PORT = 465\n",
    "SMTP_USER = 'seoweet21@gmail.com'\n",
    "SMTP_PASSWORD = ''"
   ]
  },
  {
   "cell_type": "code",
   "execution_count": 220,
   "id": "3f7c212d",
   "metadata": {},
   "outputs": [],
   "source": [
    "# 이메일 발송하는 코드\n",
    "\n",
    "def send_mail(name, addr, subject, contents):\n",
    "    msg = MIMEMultipart('alternative')\n",
    "    \n",
    "    msg['from'] = SMTP_USER\n",
    "    msg['to'] = addr\n",
    "    msg['subject'] = f'{name}님 {subject}'\n",
    "    \n",
    "    \n",
    "    text = MIMEText(contents, _charset='utf-8')\n",
    "    msg.attach(text)\n",
    "    \n",
    "    #로그인\n",
    "    smtp= smtplib.SMTP_SSL(SMTP_SERVER,SMTP_PORT)\n",
    "    smtp.login(SMTP_USER,SMTP_PASSWORD)\n",
    "    smtp.sendmail(SMTP_USER,addr,msg.as_string())\n",
    "    smtp.close()\n",
    "    "
   ]
  },
  {
   "cell_type": "markdown",
   "id": "0619707b",
   "metadata": {},
   "source": [
    "contents에는 문자뿐이 아닌 파일, 이미지등 다양한 형태가 함께 포함되어 있습니다.\n",
    "\n",
    "단순히 변수를 선언하는 것이 아닌 attach 함수를 이용하는 이유입니다."
   ]
  },
  {
   "cell_type": "code",
   "execution_count": 222,
   "id": "bd61253d",
   "metadata": {},
   "outputs": [],
   "source": [
    "contents = '''안녕하세요.\n",
    "파이썬 자동화 이메일 테스트 중입니다.'''\n",
    "\n",
    "send_mail('이름', '@naver.com', '자동화 메일입니다.',contents)\n",
    "\n"
   ]
  },
  {
   "cell_type": "markdown",
   "id": "82ba1ec6",
   "metadata": {},
   "source": [
    "### 유효성 검사\n",
    "\n",
    "### 정규표현식\n"
   ]
  },
  {
   "cell_type": "code",
   "execution_count": null,
   "id": "26776d46",
   "metadata": {},
   "outputs": [],
   "source": []
  },
  {
   "cell_type": "code",
   "execution_count": null,
   "id": "87473eeb",
   "metadata": {},
   "outputs": [],
   "source": []
  },
  {
   "cell_type": "code",
   "execution_count": null,
   "id": "3e13a8eb",
   "metadata": {},
   "outputs": [],
   "source": []
  },
  {
   "cell_type": "code",
   "execution_count": null,
   "id": "44a2013e",
   "metadata": {},
   "outputs": [],
   "source": []
  },
  {
   "cell_type": "code",
   "execution_count": null,
   "id": "b154efa2",
   "metadata": {},
   "outputs": [],
   "source": []
  },
  {
   "cell_type": "code",
   "execution_count": null,
   "id": "7db24dcb",
   "metadata": {},
   "outputs": [],
   "source": []
  },
  {
   "cell_type": "code",
   "execution_count": null,
   "id": "7b815c05",
   "metadata": {},
   "outputs": [],
   "source": []
  },
  {
   "cell_type": "code",
   "execution_count": null,
   "id": "76093411",
   "metadata": {},
   "outputs": [],
   "source": []
  },
  {
   "cell_type": "code",
   "execution_count": null,
   "id": "8dc761d1",
   "metadata": {},
   "outputs": [],
   "source": []
  },
  {
   "cell_type": "code",
   "execution_count": null,
   "id": "2bb937be",
   "metadata": {},
   "outputs": [],
   "source": []
  },
  {
   "cell_type": "code",
   "execution_count": null,
   "id": "c488f5a3",
   "metadata": {},
   "outputs": [],
   "source": []
  }
 ],
 "metadata": {
  "kernelspec": {
   "display_name": "Python 3",
   "language": "python",
   "name": "python3"
  },
  "language_info": {
   "codemirror_mode": {
    "name": "ipython",
    "version": 3
   },
   "file_extension": ".py",
   "mimetype": "text/x-python",
   "name": "python",
   "nbconvert_exporter": "python",
   "pygments_lexer": "ipython3",
   "version": "3.8.8"
  }
 },
 "nbformat": 4,
 "nbformat_minor": 5
}
