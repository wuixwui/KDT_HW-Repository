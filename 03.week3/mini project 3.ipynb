{
 "cells": [
  {
   "cell_type": "markdown",
   "metadata": {},
   "source": [
    "(1) 프로젝트 명 : 네이버 뉴스 자동 수집 후 메일 발송기 \n",
    " \n",
    "(2) 프로젝트 설명(200자 이내) :\n",
    " 특정 키워드에 해당하는 뉴스 기사를 네이버에서 찾아\n",
    " 기사 제목, 링크를 엑셀 파일로 만들어\n",
    " 미리 만들어둔 엑셀 파일에 있는 메일링 대상자에게 메일로 전달합니다.\n",
    " \n",
    "(3) 프로젝트 과제 상세 :\n",
    " - 사용자가 원하는 키워드 입력받기\n",
    " - 네이버 뉴스를 수집해 주는 모듈을 이용해서 해당 키워드 뉴스 수집 후 엑셀 파일에 제목, 링크, 요약문 기록하기\n",
    " - 수집 데이터 엑셀 파일을 메일링 대상자 엑셀 파일을 읽어 대상자들에게 메일 보내기\n",
    " \n",
    "(4) 점검 및 합격 기준표 :\n",
    " - 해당 파트를 수강하면서 사용한 문법과 기능을 활용할 수 있어야 합니다.\n",
    " - 전체적인 업무의 흐름을 이해하고 작성하여야 합니다.\n",
    " - 각 단계마다 주어진 과제 코드를 완성하여야 합니다.\n"
   ]
  },
  {
   "cell_type": "markdown",
   "metadata": {},
   "source": [
    "#### 아래 코드를 실행해서 NaverNewsCrawler 모듈을 임포트하세요."
   ]
  },
  {
   "cell_type": "code",
   "execution_count": null,
   "metadata": {},
   "outputs": [],
   "source": [
    "# 크롤러 코드를 위한 모듈 설치\n",
    "!pip install requests\n",
    "!pip install beautifulsoup4"
   ]
  },
  {
   "cell_type": "code",
   "execution_count": null,
   "metadata": {},
   "outputs": [],
   "source": [
    "from NaverNewsCrawler import NaverNewsCrawler"
   ]
  },
  {
   "cell_type": "code",
   "execution_count": null,
   "metadata": {},
   "outputs": [],
   "source": []
  },
  {
   "cell_type": "markdown",
   "metadata": {},
   "source": [
    "#### 사용자로 부터 기사 수집을 원하는 키워드를 input을 이용해 입력받아 ? 부분에 넣으세요"
   ]
  },
  {
   "cell_type": "code",
   "execution_count": null,
   "metadata": {},
   "outputs": [],
   "source": []
  },
  {
   "cell_type": "code",
   "execution_count": null,
   "metadata": {},
   "outputs": [],
   "source": [
    "crawler = NaverNewsCrawler(?)"
   ]
  },
  {
   "cell_type": "code",
   "execution_count": null,
   "metadata": {},
   "outputs": [],
   "source": []
  },
  {
   "cell_type": "markdown",
   "metadata": {},
   "source": [
    "#### 수집한 데이터를 저장할 엑셀 파일명을 input을 이용해 입력받아 ? 부분에 넣으세요"
   ]
  },
  {
   "cell_type": "code",
   "execution_count": null,
   "metadata": {},
   "outputs": [],
   "source": []
  },
  {
   "cell_type": "code",
   "execution_count": null,
   "metadata": {},
   "outputs": [],
   "source": [
    "crawler.get_news(?)"
   ]
  },
  {
   "cell_type": "code",
   "execution_count": null,
   "metadata": {},
   "outputs": [],
   "source": []
  },
  {
   "cell_type": "markdown",
   "metadata": {},
   "source": [
    "#### 아래코드를 실행해 이메일 발송 기능에 필요한 모듈을 임포트하세요."
   ]
  },
  {
   "cell_type": "code",
   "execution_count": null,
   "metadata": {},
   "outputs": [],
   "source": [
    "from email.mime.text import MIMEText\n",
    "from email.mime.multipart import MIMEMultipart\n",
    "import smtplib\n",
    "import re"
   ]
  },
  {
   "cell_type": "code",
   "execution_count": null,
   "metadata": {},
   "outputs": [],
   "source": []
  },
  {
   "cell_type": "markdown",
   "metadata": {},
   "source": [
    "#### gmail 발송 기능에 필요한 계정 정보를 아래 코드에 입력하세요."
   ]
  },
  {
   "cell_type": "code",
   "execution_count": null,
   "metadata": {},
   "outputs": [],
   "source": [
    "SMTP_SERVER = 'smtp.gmail.com'\n",
    "SMTP_PORT = 465\n",
    "SMTP_USER = ''\n",
    "SMTP_PASSWORD = ''"
   ]
  },
  {
   "cell_type": "code",
   "execution_count": null,
   "metadata": {},
   "outputs": [],
   "source": []
  },
  {
   "cell_type": "markdown",
   "metadata": {},
   "source": [
    "#### 아래 코드를 실행해 메일 발송에 필요한 send_mail 함수를 만드세요."
   ]
  },
  {
   "cell_type": "code",
   "execution_count": null,
   "metadata": {},
   "outputs": [],
   "source": [
    "def send_mail(name, addr, subject, contents, attachment=None):\n",
    "    if not re.match('(^[a-zA-Z0-9_.-]+@[a-zA-Z0-9-]+\\.[a-zA-Z0-9-.]+$)', addr):\n",
    "        print('Wrong email')\n",
    "        return\n",
    "\n",
    "    msg = MIMEMultipart('alternative')\n",
    "    if attachment:\n",
    "        msg = MIMEMultipart('mixed')\n",
    "\n",
    "    msg['From'] = SMTP_USER\n",
    "    msg['To'] = addr\n",
    "    msg['Subject'] = name + '님, ' + subject\n",
    "\n",
    "    text = MIMEText(contents, _charset='utf-8')\n",
    "    msg.attach(text)\n",
    "\n",
    "    if attachment:\n",
    "        from email.mime.base import MIMEBase\n",
    "        from email import encoders\n",
    "\n",
    "        file_data = MIMEBase('application', 'octect-stream')\n",
    "        file_data.set_payload(open(attachment, 'rb').read())\n",
    "        encoders.encode_base64(file_data)\n",
    "\n",
    "        import os\n",
    "        filename = os.path.basename(attachment)\n",
    "        file_data.add_header('Content-Disposition', 'attachment; filename=\"'+filename+'\"')\n",
    "        msg.attach(file_data)\n",
    "    \n",
    "    smtp = smtplib.SMTP_SSL(SMTP_SERVER, SMTP_PORT)\n",
    "    smtp.login(SMTP_USER, SMTP_PASSWORD)\n",
    "    smtp.sendmail(SMTP_USER, addr, msg.as_string())\n",
    "    smtp.close()"
   ]
  },
  {
   "cell_type": "code",
   "execution_count": null,
   "metadata": {},
   "outputs": [],
   "source": []
  },
  {
   "cell_type": "markdown",
   "metadata": {},
   "source": [
    "#### 프로젝트 폴더에 있는 email_list.xlsx 파일에 이메일 받을 사람들의 정보를 입력하세요."
   ]
  },
  {
   "cell_type": "code",
   "execution_count": null,
   "metadata": {},
   "outputs": [],
   "source": []
  },
  {
   "cell_type": "code",
   "execution_count": null,
   "metadata": {},
   "outputs": [],
   "source": []
  },
  {
   "cell_type": "markdown",
   "metadata": {},
   "source": [
    "#### 엑셀 파일의 정보를 읽어올 수 있는 모듈을 import하세요."
   ]
  },
  {
   "cell_type": "code",
   "execution_count": null,
   "metadata": {},
   "outputs": [],
   "source": []
  },
  {
   "cell_type": "code",
   "execution_count": null,
   "metadata": {},
   "outputs": [],
   "source": []
  },
  {
   "cell_type": "markdown",
   "metadata": {},
   "source": [
    "#### email_list.xlsx 파일을 읽어와 해당 사람들에게 수집한 뉴스 정보 엑셀 파일을 send_mail 함수를 이용해 전송하세요."
   ]
  },
  {
   "cell_type": "code",
   "execution_count": null,
   "metadata": {},
   "outputs": [],
   "source": []
  },
  {
   "cell_type": "code",
   "execution_count": null,
   "metadata": {},
   "outputs": [],
   "source": [
    "send_mail()"
   ]
  }
 ],
 "metadata": {
  "kernelspec": {
   "display_name": "Python 3",
   "language": "python",
   "name": "python3"
  },
  "language_info": {
   "codemirror_mode": {
    "name": "ipython",
    "version": 3
   },
   "file_extension": ".py",
   "mimetype": "text/x-python",
   "name": "python",
   "nbconvert_exporter": "python",
   "pygments_lexer": "ipython3",
   "version": "3.7.4"
  }
 },
 "nbformat": 4,
 "nbformat_minor": 2
}
