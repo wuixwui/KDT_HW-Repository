{
 "cells": [
  {
   "cell_type": "markdown",
   "metadata": {},
   "source": [
    "(1) 프로젝트 명 : 네이버 뉴스 자동 수집 후 메일 발송기 \n",
    " \n",
    "(2) 프로젝트 설명(200자 이내) :\n",
    " 특정 키워드에 해당하는 뉴스 기사를 네이버에서 찾아\n",
    " 기사 제목, 링크를 엑셀 파일로 만들어\n",
    " 미리 만들어둔 엑셀 파일에 있는 메일링 대상자에게 메일로 전달합니다.\n",
    " \n",
    "(3) 프로젝트 과제 상세 :\n",
    " - 사용자가 원하는 키워드 입력받기\n",
    " - 네이버 뉴스를 수집해 주는 모듈을 이용해서 해당 키워드 뉴스 수집 후 엑셀 파일에 제목, 링크, 요약문 기록하기\n",
    " - 수집 데이터 엑셀 파일을 메일링 대상자 엑셀 파일을 읽어 대상자들에게 메일 보내기\n",
    " \n",
    "(4) 점검 및 합격 기준표 :\n",
    " - 해당 파트를 수강하면서 사용한 문법과 기능을 활용할 수 있어야 합니다.\n",
    " - 전체적인 업무의 흐름을 이해하고 작성하여야 합니다.\n",
    " - 각 단계마다 주어진 과제 코드를 완성하여야 합니다.\n"
   ]
  },
  {
   "cell_type": "markdown",
   "metadata": {},
   "source": [
    "#### 아래 코드를 실행해서 NaverNewsCrawler 모듈을 임포트하세요."
   ]
  },
  {
   "cell_type": "code",
   "execution_count": 1,
   "metadata": {},
   "outputs": [
    {
     "name": "stdout",
     "output_type": "stream",
     "text": [
      "Requirement already satisfied: requests in c:\\users\\seowe\\anaconda3\\lib\\site-packages (2.25.1)\n",
      "Requirement already satisfied: idna<3,>=2.5 in c:\\users\\seowe\\anaconda3\\lib\\site-packages (from requests) (2.10)\n",
      "Requirement already satisfied: certifi>=2017.4.17 in c:\\users\\seowe\\anaconda3\\lib\\site-packages (from requests) (2020.12.5)\n",
      "Requirement already satisfied: urllib3<1.27,>=1.21.1 in c:\\users\\seowe\\anaconda3\\lib\\site-packages (from requests) (1.26.4)\n",
      "Requirement already satisfied: chardet<5,>=3.0.2 in c:\\users\\seowe\\anaconda3\\lib\\site-packages (from requests) (4.0.0)\n",
      "Requirement already satisfied: beautifulsoup4 in c:\\users\\seowe\\anaconda3\\lib\\site-packages (4.9.3)\n",
      "Requirement already satisfied: soupsieve>1.2 in c:\\users\\seowe\\anaconda3\\lib\\site-packages (from beautifulsoup4) (2.2.1)\n"
     ]
    }
   ],
   "source": [
    "# 크롤러 코드를 위한 모듈 설치\n",
    "!pip install requests\n",
    "!pip install beautifulsoup4"
   ]
  },
  {
   "cell_type": "code",
   "execution_count": 2,
   "metadata": {},
   "outputs": [],
   "source": [
    "from NaverNewsCrawler import NaverNewsCrawler"
   ]
  },
  {
   "cell_type": "markdown",
   "metadata": {},
   "source": [
    "네이버 뉴스 수집 모듈 실행"
   ]
  },
  {
   "cell_type": "markdown",
   "metadata": {},
   "source": [
    "#### 사용자로 부터 기사 수집을 원하는 키워드를 input을 이용해 입력받아 ? 부분에 넣으세요"
   ]
  },
  {
   "cell_type": "code",
   "execution_count": 3,
   "metadata": {},
   "outputs": [
    {
     "name": "stdout",
     "output_type": "stream",
     "text": [
      "검색하고 싶은 키워드를 입력하세요.MBTI\n"
     ]
    }
   ],
   "source": [
    "user_keyword = input(\"검색하고 싶은 키워드를 입력하세요.\")"
   ]
  },
  {
   "cell_type": "code",
   "execution_count": 4,
   "metadata": {},
   "outputs": [],
   "source": [
    "crawler = NaverNewsCrawler(user_keyword)"
   ]
  },
  {
   "cell_type": "markdown",
   "metadata": {},
   "source": [
    "검색하고 싶은 키워드를 `input`으로 입력받아 변수에 저장합니다."
   ]
  },
  {
   "cell_type": "markdown",
   "metadata": {},
   "source": [
    "#### 수집한 데이터를 저장할 엑셀 파일명을 input을 이용해 입력받아 ? 부분에 넣으세요"
   ]
  },
  {
   "cell_type": "code",
   "execution_count": 5,
   "metadata": {},
   "outputs": [
    {
     "name": "stdout",
     "output_type": "stream",
     "text": [
      "저장할 파일명을 입력하세요.MBTI\n"
     ]
    }
   ],
   "source": [
    "xlsx_name = input(\"저장할 파일명을 입력하세요.\")+ \".xlsx\""
   ]
  },
  {
   "cell_type": "markdown",
   "metadata": {},
   "source": [
    "`input`으로 입력 받은 파일명에 `확장자.xlsx`를 합쳐서 변수에 저장해 줍니다."
   ]
  },
  {
   "cell_type": "code",
   "execution_count": 6,
   "metadata": {},
   "outputs": [
    {
     "name": "stdout",
     "output_type": "stream",
     "text": [
      "MBTI에 대한 기사 수집 시작\n",
      "1 NHN벅스, 'MBTI 음악 특집' 오픈 http://www.inews24.com/view/1392301   NHN벅스(대표 왕문주)는 MBTI 유형별로 어울리는 음악을 추천해주는 'MBTI 음악 특집'을 오픈했다고 2일 발표했다. 벅스는 회원들의 다양한 일상과 관심사를 반영해 '온라인 탑골공원', '힙스터', '힐링', '비·흐림... \n",
      "2 고양이 MBTI 화제 \"내가 고양이로 태어난다면?\" http://www.ggilbo.com/news/articleView.html?idxno=861770   고양이 MBTI 화제 \"내가 고양이로 태어난다면?\" 최근 온라인상에서는 고양이 MBTI가 화제를 모으고 있다. 질문은 '새로운 환경에서 일하게 되었을때', '누군간 이 적막을 깨야 한다!', '제주도로 여행을 간다구?', '원하던... \n",
      "3 박정훈의 공부혁명 / MBTI로 공부 한번 잘해보자(40) http://www.lec.co.kr/news/articleView.html?idxno=729254   박정훈 MBTI 학습 컨설턴트 이 글은 공무원 시험을 준비하는 수험생들의 학습 전략에 대해 MBTI 성격유형검사의 많은 이론 중에서 오로지 학습과 관련된 부분에 한정해서 쓰였다. 현재 9급 공무원 시험을 준비하는... \n",
      "4 2030 미혼남녀 75% \"이성 교제시 MBTI 고려하지 않아\" http://www.fnnews.com/news/202107300925113049   젊은 층을 중심으로 성향을 테스트하는 MBTI가 화제지만 2030 미혼남녀 대부분은 MBTI를 이성을 만날 때 고려하지 않는 것으로 조사됐다. 30일 결혼정보회사 가연 지난 7월 초 오픈서베이를 통해 25세 이상... \n",
      "5 돌아온 멜론차트…각양각색 전술로 맞서는 음악 스트리밍 앱 https://www.etoday.co.kr/news/view/2050417   벅스는 MBTI 유형별로 어울리는 음악을 추천해주는 ‘MBTI 음악 특집’콘텐츠를 제공한다고 전날 밝혔다. 벅스의 고도화된 개인 맞춤형 큐레이션 서비스를 쉽고 재미있게 접할 수 있는 콘텐츠로, 앱 검색창이나 탐색... \n",
      "6 결혼정보회사 가연, 2030 '미혼남녀 MBTI' 설문 진행 http://www.datanet.co.kr/news/articleView.html?idxno=162599   MBTI 성격 유형 검사는 최근 20~30대 사이에서 꾸준히 화제를 모으는 이슈다. 특히 MBTI별 연애, 이상형, 궁합 등 이성과 관련된 부분에 대해서도 관심이 높다. 결혼정보회사 가연은 지난 7월 초 오픈서베이를... \n",
      "7 결혼정보회사 가연 \"MBTI 男보다는 女, 30대보다는 20대 관심 높아\" http://www.asiaa.co.kr/news/articleView.html?idxno=51255   결혼정보회사 가연은 지난 7월 초 오픈서베이를 통해 25세 이상 39세 이하 전국 미혼남녀 500명(남 250, 여 250)을 대상으로 '미혼남녀와 MBTI'에 대한 조사를 진행했다고 3일 밝혔다. 먼저 응답자들은 MBTI 검사를... \n",
      "8 ‘월간 집’ 정소민♥김지석, MBTI만 봐도 천생연분 http://star.mk.co.kr/new/view.php?mc=ST&year=2021&no=724685   ‘월간 집’ 정소민과 김지석의 로맨스에 적신호가 켜진 가운데, 두 사람이 천생연분임을 입증하는 MBTI가... ‘대빵이들’의 재결합에 기대가 쏠리고 있는 가운데, MBTI 성격 유형 검사 결과까지 공개돼 이목이... \n",
      "9 [데일리 IT 단신] 넥슨, 'NYPC 토크콘서트' 성료 外 http://biz.newdaily.co.kr/site/data/html/2021/08/02/2021080200084.html   ◆ 벅스, 'MBTI 음악 특집' 오픈... 16가지 유형별 추천 플레이리스트 제공 NHN벅스는 MBTI 유형별로 어울리는 음악을 추천해주는 'MBTI 음악 특집'을 오픈했다고 2일 밝혔다. MBTI 음악 특집은 벅스의 고도화된 개인 맞춤형... \n",
      "10 '유퀴즈' 조승우 \"내 작품 민망해서 못 봐…MBTI는 'INFP'\" http://news.mt.co.kr/mtview.php?no=2021072822434865692   MBTI 검사를 해봤냐는 질문에 조승우는 'INFP'라고 밝히며 \"어렸을 때 꿈이 없었다. 야구와 자전거를 좋아했던 아주 내성적인 학생이었다. 누나가 예술고등학교 학생이었는데, 돈키호테 연기하는 걸 보고 '저걸 해야겠다... \n",
      "MBTI.xlsx에 데이터 저장 완료\n",
      "MBTI에 대한 기사 수집 완료\n"
     ]
    }
   ],
   "source": [
    "crawler.get_news(xlsx_name)"
   ]
  },
  {
   "cell_type": "markdown",
   "metadata": {},
   "source": [
    "`키워드`를 담은 클래스를 실행시켜 뉴스를 수집하고 `지정한 파일명`으로 저장합니다. "
   ]
  },
  {
   "cell_type": "markdown",
   "metadata": {},
   "source": [
    "#### 아래코드를 실행해 이메일 발송 기능에 필요한 모듈을 임포트하세요."
   ]
  },
  {
   "cell_type": "code",
   "execution_count": 7,
   "metadata": {},
   "outputs": [],
   "source": [
    "from email.mime.text import MIMEText\n",
    "from email.mime.multipart import MIMEMultipart\n",
    "import smtplib\n",
    "import re"
   ]
  },
  {
   "cell_type": "markdown",
   "metadata": {},
   "source": [
    "파이썬에 내장된 이메일 모듈을 사용합니다."
   ]
  },
  {
   "cell_type": "markdown",
   "metadata": {},
   "source": [
    "#### gmail 발송 기능에 필요한 계정 정보를 아래 코드에 입력하세요."
   ]
  },
  {
   "cell_type": "code",
   "execution_count": 8,
   "metadata": {},
   "outputs": [],
   "source": [
    "SMTP_SERVER = 'smtp.gmail.com'\n",
    "SMTP_PORT = 465\n",
    "SMTP_USER = 'slxoghkqwer@gmail.com'\n",
    "SMTP_PASSWORD = 'fastcampus12'"
   ]
  },
  {
   "cell_type": "markdown",
   "metadata": {},
   "source": [
    "#### 아래 코드를 실행해 메일 발송에 필요한 send_mail 함수를 만드세요."
   ]
  },
  {
   "cell_type": "code",
   "execution_count": 14,
   "metadata": {},
   "outputs": [],
   "source": [
    "def send_mail(name, addr, subject, contents, attachment=None):\n",
    "    if not re.match('(^[a-zA-Z0-9_.-]+@[a-zA-Z0-9-]+\\.[a-zA-Z0-9-.]+$)', addr):\n",
    "        print('Wrong email')\n",
    "        return\n",
    "\n",
    "    msg = MIMEMultipart('alternative')\n",
    "    if attachment:\n",
    "        msg = MIMEMultipart('mixed')\n",
    "\n",
    "    msg['From'] = SMTP_USER\n",
    "    msg['To'] = addr\n",
    "    msg['Subject'] = name + '님, ' + subject\n",
    "\n",
    "    text = MIMEText(contents, _charset='utf-8')\n",
    "    msg.attach(text)\n",
    "\n",
    "    if attachment:\n",
    "        from email.mime.base import MIMEBase\n",
    "        from email import encoders\n",
    "\n",
    "        file_data = MIMEBase('application', 'octect-stream')\n",
    "        file_data.set_payload(open(attachment, 'rb').read())\n",
    "        encoders.encode_base64(file_data)\n",
    "\n",
    "        import os\n",
    "        filename = os.path.basename(attachment)\n",
    "        file_data.add_header('Content-Disposition', 'attachment; filename=\"'+filename+'\"')\n",
    "        msg.attach(file_data)\n",
    "    \n",
    "    smtp = smtplib.SMTP_SSL(SMTP_SERVER, SMTP_PORT)\n",
    "    smtp.login(SMTP_USER, SMTP_PASSWORD)\n",
    "    smtp.sendmail(SMTP_USER, addr, msg.as_string())\n",
    "    smtp.close()"
   ]
  },
  {
   "cell_type": "markdown",
   "metadata": {},
   "source": [
    "이메일 유효성 검사와 파일전송이 가능한 이메일 발송 함수를 생성합니다."
   ]
  },
  {
   "cell_type": "markdown",
   "metadata": {},
   "source": [
    "#### 프로젝트 폴더에 있는 email_list.xlsx 파일에 이메일 받을 사람들의 정보를 입력하세요."
   ]
  },
  {
   "cell_type": "code",
   "execution_count": 15,
   "metadata": {},
   "outputs": [],
   "source": [
    "from openpyxl import Workbook\n",
    "\n",
    "wb = Workbook()\n",
    "ws = wb.active\n",
    "\n",
    "ws.append(['number','name', 'addr'])\n",
    "ws.append(['1','배프', 'beap.jg@gmail.com'])\n",
    "ws.append(['2','송종근', 'masterofflash@nate.com'])\n",
    "\n",
    "wb.save(\"email_list.xlsx\")"
   ]
  },
  {
   "cell_type": "markdown",
   "metadata": {},
   "source": [
    "첫 행에는 `데이터에 대한 정보`를 적고   \n",
    "이 후의 행에는 `이메일을 받을 사람들의 정보`를 입력합니다."
   ]
  },
  {
   "cell_type": "markdown",
   "metadata": {},
   "source": [
    "#### 엑셀 파일의 정보를 읽어올 수 있는 모듈을 import하세요."
   ]
  },
  {
   "cell_type": "code",
   "execution_count": 16,
   "metadata": {},
   "outputs": [],
   "source": [
    "from openpyxl import load_workbook"
   ]
  },
  {
   "cell_type": "markdown",
   "metadata": {},
   "source": [
    "엑셀 파일을 읽어올 수 있는 모듈의 클래스를 가져옵니다."
   ]
  },
  {
   "cell_type": "markdown",
   "metadata": {},
   "source": [
    "#### email_list.xlsx 파일을 읽어와 해당 사람들에게 수집한 뉴스 정보 엑셀 파일을 send_mail 함수를 이용해 전송하세요."
   ]
  },
  {
   "cell_type": "code",
   "execution_count": 19,
   "metadata": {},
   "outputs": [],
   "source": [
    "subject = f'{user_keyword}와 관련된 뉴스들입니다.'\n",
    "\n",
    "contents = f\"\"\"안녕하세요.\n",
    "{user_keyword}에 관한 좋은 뉴스 전달합니다.\n",
    "{user_keyword}에 대한 이야기를 즐겨보세요!\"\"\"\n"
   ]
  },
  {
   "cell_type": "markdown",
   "metadata": {},
   "source": [
    "제목과 내용에 키워드 변수를 사용하여 관련된 이야기를 적어서 변수를 생성합니다."
   ]
  },
  {
   "cell_type": "code",
   "execution_count": 20,
   "metadata": {},
   "outputs": [],
   "source": [
    "wb = load_workbook(\"email_list.xlsx\", read_only=True)\n",
    "email_data = wb.active\n",
    "\n",
    "for row in email_data.iter_rows():\n",
    "    if row[0].value != 'number':\n",
    "        user_name = row[1].value\n",
    "        user_addr = row[2].value\n",
    "        send_mail(user_name, user_addr, subject, contents, xlsx_name)\n",
    "    else:\n",
    "        continue"
   ]
  },
  {
   "cell_type": "markdown",
   "metadata": {},
   "source": [
    "`for`반복문을 이용하여 첫행의 첫열의 데이터가    \n",
    "데이터의 정보인 'number'을 담고 있으면 넘어갑니다.`continue`\n",
    "\n",
    "이후 첫열의 유저이름을 변수에 담고 `user_name`,    \n",
    "두번째 열의 주소를 `user_addr` 변수에 담아줍니다.\n",
    "\n",
    "그 후 `send_meail()`함수를 이용해 각 행마다 이메일을 전송해 줍니다."
   ]
  },
  {
   "cell_type": "markdown",
   "metadata": {},
   "source": [
    "### 연습에 사용된 이메일과 비밀번호는 모두 삭제한 뒤 올립니다."
   ]
  }
 ],
 "metadata": {
  "kernelspec": {
   "display_name": "Python 3",
   "language": "python",
   "name": "python3"
  },
  "language_info": {
   "codemirror_mode": {
    "name": "ipython",
    "version": 3
   },
   "file_extension": ".py",
   "mimetype": "text/x-python",
   "name": "python",
   "nbconvert_exporter": "python",
   "pygments_lexer": "ipython3",
   "version": "3.8.8"
  }
 },
 "nbformat": 4,
 "nbformat_minor": 2
}
