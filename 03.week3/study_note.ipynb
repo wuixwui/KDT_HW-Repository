{
 "cells": [
  {
   "cell_type": "markdown",
   "id": "f9b4615e",
   "metadata": {},
   "source": [
    "# Python"
   ]
  },
  {
   "cell_type": "markdown",
   "id": "cf57d0ec",
   "metadata": {},
   "source": [
    "## variable\n",
    "---\n",
    "> 데이터를 담는 순간 자료형이 정해지며 자료형마다 다른 연산을 지원합니다.\n"
   ]
  },
  {
   "cell_type": "markdown",
   "id": "0427fc15",
   "metadata": {},
   "source": [
    "## 자료형\n",
    "\n",
    "---\n",
    "### 숫자형\n",
    "\n",
    "1. int 정수 \n",
    "2. float 실수\n",
    "    - 숫자형 자료형은 연산을 지원합니다."
   ]
  },
  {
   "cell_type": "code",
   "execution_count": 1,
   "id": "2749c533",
   "metadata": {},
   "outputs": [
    {
     "name": "stdout",
     "output_type": "stream",
     "text": [
      "값: 4.50\n",
      "1\n"
     ]
    }
   ],
   "source": [
    "number = 9 / 2\n",
    "# 나누기 연산을 사용하면 int는 float가 됩니다.\n",
    "number_rest = 9 % 2\n",
    "print('값: %.2f'%number)\n",
    "print(number_rest)"
   ]
  },
  {
   "cell_type": "markdown",
   "id": "7b87c792",
   "metadata": {},
   "source": [
    "---\n",
    "### 문자형"
   ]
  },
  {
   "cell_type": "code",
   "execution_count": 2,
   "id": "02a17ac4",
   "metadata": {},
   "outputs": [
    {
     "name": "stdout",
     "output_type": "stream",
     "text": [
      "\"안녕\" 안녕이라고 인사를 했다. \"안녕\" 나도 안녕이라고 인사했다.\n"
     ]
    }
   ],
   "source": [
    "print('''\"안녕\" 안녕이라고 인사를 했다. \"안녕\" 나도 안녕이라고 인사했다.''')"
   ]
  },
  {
   "cell_type": "code",
   "execution_count": 3,
   "id": "3ae017d1",
   "metadata": {},
   "outputs": [
    {
     "name": "stdout",
     "output_type": "stream",
     "text": [
      "\n",
      ", \t, \\, ', \" \n"
     ]
    }
   ],
   "source": [
    "#escape code\n",
    "print(\"\\n, \\t, \\\\, \\', \\\" \")"
   ]
  },
  {
   "cell_type": "markdown",
   "id": "f760755e",
   "metadata": {},
   "source": [
    "**indexing & slicing**"
   ]
  },
  {
   "cell_type": "code",
   "execution_count": 5,
   "id": "fee7fae8",
   "metadata": {},
   "outputs": [
    {
     "name": "stdout",
     "output_type": "stream",
     "text": [
      "a\n",
      "abcd\n"
     ]
    }
   ],
   "source": [
    "str1 = \"abcdefg\"\n",
    "\n",
    "#indexing\n",
    "print(str1[0])\n",
    "\n",
    "#slicing\n",
    "print(str1[0:4])"
   ]
  },
  {
   "cell_type": "markdown",
   "id": "2a7394dc",
   "metadata": {},
   "source": [
    "**내장함수**\n",
    "\n",
    "> .count('a') .find('a') .index('a') .join(',') .upper() .lower() .replace(a,b) .split(' ') .strip()\n",
    "\n",
    "    - count는 a가 문자열에 몇개 있는지 반환합니다.\n",
    "    - find는 처음만난 문자열의 인덱스 번호 반환.\n",
    "        (존재하지 않는 값을 찾으면 -1을 반환합니다.)\n",
    "    - index는 a의 인덱스 번호를 반환합니다.\n",
    "    - join은 문자 사이에 ','입력한 값을 넣어서 반환합니다.\n",
    "    - upper는 대문자로 바꿔줍니다.\n",
    "    - lower는 소문자로 바꿔줍니다.\n",
    "    - replace는 a를 b로 바꿔줍니다.\n",
    "    - split는 ' '를 기준으로 문자열을 나눠 리스트에 넣어 반환합니다.\n",
    "    - strip은 양쪽 공백을 제거한 후 반환합니다."
   ]
  },
  {
   "cell_type": "markdown",
   "id": "9686bfb7",
   "metadata": {},
   "source": [
    "---\n",
    "### list\n",
    "\n",
    "데이터의 모음\n",
    "데이터의 추가, 삭제, 수정이 자유로움\n",
    "\n",
    "**리스트 연산**\n",
    "\n",
    "- + 리스트를 합쳐서 반환\n",
    "- * n 리스트를 n번 반복해서 반환\n",
    "\n",
    "- del(array[0]) 리스트를 삭제 가능 -> 리스트에서 값이 제거됨\n",
    "\n",
    "**내장 함수**\n",
    "\n",
    "> .append('a') .sort() .reverse() .index('a') .insert(1,'a') .remove('a') .pop() .count('a') ','.join(array)\n",
    "\n",
    "- append는 뒤에 데이터를 추가합니다.\n",
    "- sort는 리스트를 정렬합니다.\n",
    "    - [정렬 더 알아보기](https://vision-ai.tistory.com/entry/%ED%8C%8C%EC%9D%B4%EC%8D%AC-%EB%A6%AC%EC%8A%A4%ED%8A%B8-%ED%95%AD%EB%AA%A9-%EC%A0%95%EB%A0%AC%ED%95%98%EA%B8%B0-sorted-sort-reverse)\n",
    "- reverse 리스트를 반대 순서로 정렬합니다.\n",
    "- index는 처음으로 만난 데이터의 인덱스 반환합니다.\n",
    "- insert는 1 인덱스 자리에 a를 추가합니다.\n",
    "- remove는 처음 만난 데이터를 제거합니다.\n",
    "- pop는 마지막에 존재하는 데이터를 출력하고 삭제합니다.\n",
    "- count는 데이터가 몇개 존재하는지 반환합니다.\n",
    "- join은 배열에 있는 값들을 앞에 명시한 기호를 사이에 넣어서 문자열로 반환합니다.\n"
   ]
  },
  {
   "cell_type": "code",
   "execution_count": 7,
   "id": "1b0c266a",
   "metadata": {},
   "outputs": [
    {
     "name": "stdout",
     "output_type": "stream",
     "text": [
      "abc,des,sdf,rwg,kuhgf\n"
     ]
    }
   ],
   "source": [
    "a = ['abc','des','sdf','rwg','kuhgf']\n",
    "\n",
    "b = ','.join(a)\n",
    "print(b)"
   ]
  },
  {
   "cell_type": "markdown",
   "id": "4c049c78",
   "metadata": {},
   "source": [
    "---\n",
    "### tuple\n",
    "수정 및 삭제가 불가능하다.\n",
    "삭제되면 안되는 값을 보호 할 수 있다.\n",
    "\n",
    "**내장함수**\n",
    "append, sort, reverse, insert, remove, pop처럼 수정되는 함수를 사용할 수 없습니다."
   ]
  },
  {
   "cell_type": "code",
   "execution_count": 8,
   "id": "8e8d0867",
   "metadata": {},
   "outputs": [
    {
     "ename": "AttributeError",
     "evalue": "'tuple' object has no attribute 'sort'",
     "output_type": "error",
     "traceback": [
      "\u001b[1;31m---------------------------------------------------------------------------\u001b[0m",
      "\u001b[1;31mAttributeError\u001b[0m                            Traceback (most recent call last)",
      "\u001b[1;32m<ipython-input-8-e8f10d8e0517>\u001b[0m in \u001b[0;36m<module>\u001b[1;34m\u001b[0m\n\u001b[0;32m      1\u001b[0m \u001b[0ma\u001b[0m \u001b[1;33m=\u001b[0m \u001b[1;33m(\u001b[0m\u001b[1;36m1\u001b[0m\u001b[1;33m,\u001b[0m\u001b[1;36m3\u001b[0m\u001b[1;33m,\u001b[0m\u001b[1;36m4\u001b[0m\u001b[1;33m,\u001b[0m\u001b[1;36m5\u001b[0m\u001b[1;33m,\u001b[0m\u001b[1;36m7\u001b[0m\u001b[1;33m,\u001b[0m\u001b[1;36m2\u001b[0m\u001b[1;33m,\u001b[0m\u001b[1;36m8\u001b[0m\u001b[1;33m)\u001b[0m\u001b[1;33m\u001b[0m\u001b[1;33m\u001b[0m\u001b[0m\n\u001b[0;32m      2\u001b[0m \u001b[1;33m\u001b[0m\u001b[0m\n\u001b[1;32m----> 3\u001b[1;33m \u001b[0mprint\u001b[0m\u001b[1;33m(\u001b[0m\u001b[0ma\u001b[0m\u001b[1;33m.\u001b[0m\u001b[0msort\u001b[0m\u001b[1;33m(\u001b[0m\u001b[1;33m)\u001b[0m\u001b[1;33m)\u001b[0m\u001b[1;33m\u001b[0m\u001b[1;33m\u001b[0m\u001b[0m\n\u001b[0m\u001b[0;32m      4\u001b[0m \u001b[1;31m# 오류가 발생한다.\u001b[0m\u001b[1;33m\u001b[0m\u001b[1;33m\u001b[0m\u001b[1;33m\u001b[0m\u001b[0m\n",
      "\u001b[1;31mAttributeError\u001b[0m: 'tuple' object has no attribute 'sort'"
     ]
    }
   ],
   "source": [
    "a = (1,3,4,5,7,2,8)\n",
    "\n",
    "print(a.sort())\n",
    "# 오류가 발생한다."
   ]
  },
  {
   "cell_type": "markdown",
   "id": "af0adaff",
   "metadata": {},
   "source": [
    "---\n",
    "### dictionary\n",
    "\n",
    "{key:value, key:value}\n",
    "쌍을 가지고 있는 자료형\n",
    "\n",
    "> 딕셔너리는 연산과 슬라이싱을 지원하지 않고 `key`를 이용한 인덱싱만을 지원합니다. \n",
    "\n",
    "- del(dict['key'])는 key쌍을 삭제할 수 있습니다.\n",
    "\n",
    "**내장 함수**\n",
    "> .keys() .values() .items() .get()\n",
    "\n",
    "- keys는 딕셔너리의 key들을 반환합니다.\n",
    "- values 딕셔너리의 value들을 반환합니다.\n",
    "- items는 딕셔너리의 key와 value를 튜플의 형태로 반환합니다.\n",
    "- get은 key에 대한 값을 반환하는데 key가 존재하지 않는다면 get('key','value')를 입력되었다면 함께 입력한 vaule를 반환합니다.\n",
    "    - 하지만 추가되지는 않습니다. 그저 get, 가져올 뿐 입니다."
   ]
  },
  {
   "cell_type": "code",
   "execution_count": 9,
   "id": "a0817fb5",
   "metadata": {},
   "outputs": [
    {
     "name": "stdout",
     "output_type": "stream",
     "text": [
      "123\n",
      "789\n",
      "{'a': 123, 'b': 456}\n"
     ]
    }
   ],
   "source": [
    "dict1 = {'a':123, 'b':456}\n",
    "\n",
    "print(dict1.get('a',789)) #dict에 a가 있다면 a의 value를 반환\n",
    "print(dict1.get('c',789)) #dict에 c가 없을경우 789 반환\n",
    "print(dict1)"
   ]
  },
  {
   "cell_type": "markdown",
   "id": "2fe320c1",
   "metadata": {},
   "source": [
    "dict에 새로운 값을 추가하고 싶다면 인덱스(key)를 사용하면 됩니다."
   ]
  },
  {
   "cell_type": "code",
   "execution_count": 10,
   "id": "22bd7421",
   "metadata": {},
   "outputs": [
    {
     "name": "stdout",
     "output_type": "stream",
     "text": [
      "{'a': 123, 'b': 456, 'c': 789}\n"
     ]
    }
   ],
   "source": [
    "dict1['c'] = 789\n",
    "\n",
    "print(dict1)"
   ]
  },
  {
   "cell_type": "markdown",
   "id": "bf10548f",
   "metadata": {},
   "source": [
    "존재하는 key라면 수정이 됩니다."
   ]
  },
  {
   "cell_type": "code",
   "execution_count": 11,
   "id": "7a986165",
   "metadata": {},
   "outputs": [
    {
     "name": "stdout",
     "output_type": "stream",
     "text": [
      "{'a': 'change', 'b': 456, 'c': 789}\n"
     ]
    }
   ],
   "source": [
    "dict1['a'] = 'change'\n",
    "\n",
    "print(dict1)"
   ]
  },
  {
   "cell_type": "markdown",
   "id": "8be41941",
   "metadata": {},
   "source": [
    "---\n",
    "> ### 파이썬 formatting\n",
    ">[더 자세히 알고 싶다면](https://firedino.tistory.com/56)\n",
    ">1. %\n",
    ">2. {}.format()\n",
    ">3. `f-string` f'{var_name}입니다."
   ]
  },
  {
   "cell_type": "code",
   "execution_count": 12,
   "id": "636283c8",
   "metadata": {},
   "outputs": [
    {
     "name": "stdout",
     "output_type": "stream",
     "text": [
      "볼펜 2개의 길이는 10.686000cm 입니다.\n",
      "볼펜 2개의 길이는 10.69cm 입니다.\n",
      "볼펜 2개의 길이는 10.686cm 입니다.\n",
      "볼펜 2개의 길이는 10.69cm 입니다.\n",
      "볼펜 2개의 길이는 10.686cm 입니다.\n",
      "볼펜 2개의 길이는 10.7cm 입니다.\n"
     ]
    }
   ],
   "source": [
    "something = '볼펜' \n",
    "EA = 2 \n",
    "one_length = 5.343 \n",
    "scale = 'cm' \n",
    "\n",
    "print('%s %d개의 길이는 %f%s 입니다.' % (something, EA, one_length*EA, scale)) \n",
    "#실수 소수점 자릿 수 맞추기 \n",
    "print('%s %d개의 길이는 %.2f%s 입니다.' % (something, EA, one_length*EA, scale))\n",
    "\n",
    "\n",
    "print('{} {}개의 길이는 {}{} 입니다.'.format(something, EA, one_length*EA, scale)) \n",
    "print('{} {}개의 길이는 {:.2f}{} 입니다.'.format(something, EA, one_length*EA, scale))\n",
    "\n",
    "print(f'{something} {EA}개의 길이는 {one_length*EA}{scale} 입니다.') \n",
    "print(f'{something} {EA}개의 길이는 {one_length*EA:.1f}{scale} 입니다.')"
   ]
  },
  {
   "cell_type": "markdown",
   "id": "a4ee9411",
   "metadata": {},
   "source": [
    "---\n",
    "## 조건문\n",
    "\n",
    "\n",
    "### if문\n",
    "참 거짓에 따라 작성한 코드의 동작을 결정합니다.\n",
    "\n",
    "> #### Boolean\n",
    "> - True: 존재한다면 true\n",
    "> - False: 0 , [], (), {}, ''\n",
    "\n",
    "#### 조건 in / not in\n",
    "x in (list, tuple, string, dict) \n",
    "x not in (list, tuple, string, dict)"
   ]
  },
  {
   "cell_type": "code",
   "execution_count": 39,
   "id": "83ba99f7",
   "metadata": {},
   "outputs": [
    {
     "name": "stdout",
     "output_type": "stream",
     "text": [
      "no\n"
     ]
    }
   ],
   "source": [
    "a = ['abcdef', 'a', 'b']\n",
    "\n",
    "if 'abc' in a:\n",
    "    print('yes')\n",
    "else: \n",
    "    print('no')"
   ]
  },
  {
   "cell_type": "code",
   "execution_count": 43,
   "id": "529ff585",
   "metadata": {},
   "outputs": [
    {
     "name": "stdout",
     "output_type": "stream",
     "text": [
      "yes\n"
     ]
    }
   ],
   "source": [
    "if 'abc' in a[0]:\n",
    "    print('yes')\n",
    "else: \n",
    "    print('no')\n",
    "    \n",
    "# 문자열에서 abc가 존재하는지를 찾게 된다."
   ]
  },
  {
   "cell_type": "markdown",
   "id": "75353679",
   "metadata": {},
   "source": [
    "### 한 줄로 if 문 사용하기\n",
    "\n",
    "- 결과 = A if 조건 else B\n",
    "- 결과 = A if 조건 else B if 조건 else C\n"
   ]
  },
  {
   "cell_type": "code",
   "execution_count": 85,
   "id": "82b7c707",
   "metadata": {},
   "outputs": [
    {
     "name": "stdout",
     "output_type": "stream",
     "text": [
      "animal is dog\n"
     ]
    }
   ],
   "source": [
    "dog = 'dog'\n",
    "animal = 'dog'\n",
    "ret = None\n",
    "\n",
    "ret = dog if animal is dog else cat \n",
    "\n",
    "print(f\"animal is {dog}\")\n"
   ]
  },
  {
   "cell_type": "markdown",
   "id": "1f7d17c5",
   "metadata": {},
   "source": [
    "---\n",
    "\n",
    "## 반복문"
   ]
  },
  {
   "cell_type": "markdown",
   "id": "65c2f097",
   "metadata": {},
   "source": [
    "### for문\n",
    "원하는 횟수 만큼 반복한다.\n",
    "\n",
    "`for i in range():`\n"
   ]
  },
  {
   "cell_type": "code",
   "execution_count": 46,
   "id": "a193e83c",
   "metadata": {},
   "outputs": [
    {
     "name": "stdout",
     "output_type": "stream",
     "text": [
      "a\n",
      "b\n",
      "\n",
      "\n",
      "a 123\n",
      "b 456\n"
     ]
    }
   ],
   "source": [
    "# 딕셔너리\n",
    "\n",
    "dict2 = { 'a':123, 'b':456}\n",
    "\n",
    "for key in dict2.keys():\n",
    "    print(key)\n",
    "    # key만 출력된다.\n",
    "    \n",
    "for val in dict2.values():\n",
    "    print()\n",
    "    #value만 출력된다.\n",
    "    \n",
    "for (key,val) in dict2.items():\n",
    "    #items는 [(key,value),(key,value)]의 형태로 dict를 변환한다.\n",
    "    print(key,val)"
   ]
  },
  {
   "cell_type": "markdown",
   "id": "0e00265d",
   "metadata": {},
   "source": [
    "`반복내용 for _ in range(n)` n번 반복함"
   ]
  },
  {
   "cell_type": "markdown",
   "id": "c713173a",
   "metadata": {},
   "source": [
    "### while문\n",
    "특정 조건이 참인 경우 반복해준다.   \n",
    "조건이 거짓이면 while문을 탈출한다."
   ]
  },
  {
   "cell_type": "code",
   "execution_count": 50,
   "id": "d3e76a00",
   "metadata": {},
   "outputs": [
    {
     "name": "stdout",
     "output_type": "stream",
     "text": [
      "우리 헤어집시다! 좋죠?싫어요!\n",
      "뭐라고?싫어요!\n",
      "우리 헤어집시다! 좋죠?좋아요..\n",
      "뭐라고?좋아요..\n",
      "좋아요..휴.. 그만합시다...\n"
     ]
    }
   ],
   "source": [
    "user_input  = ''\n",
    "\n",
    "while user_input != \"좋아요..\":\n",
    "    user_input = input(\"우리 헤어집시다! 좋죠?\")\n",
    "    print(\"뭐라고?\" + user_input)\n",
    "print(user_input + \"휴.. 그만합시다...\")"
   ]
  },
  {
   "cell_type": "code",
   "execution_count": 64,
   "id": "1d9ef2af",
   "metadata": {},
   "outputs": [
    {
     "name": "stdout",
     "output_type": "stream",
     "text": [
      "5\n",
      "7\n",
      "4\n",
      "6\n",
      "1\n"
     ]
    }
   ],
   "source": [
    "num = [1, 6, 4, 7, 5]\n",
    "\n",
    "while num:\n",
    "#     num.sort()\n",
    "    print(num.pop())\n",
    "    "
   ]
  },
  {
   "cell_type": "markdown",
   "id": "abed1355",
   "metadata": {},
   "source": [
    ">#### continue와 break 그리고 return\n",
    ">\n",
    ">- break 빠져나오는 명령어\n",
    ">- continue 다시 반복문으로 이동하는 명령어\n",
    ">- return 값을 반환하고 종료한다."
   ]
  },
  {
   "cell_type": "markdown",
   "id": "fdb1e51c",
   "metadata": {},
   "source": [
    "---\n",
    "\n",
    "## 함수\n",
    "\n",
    "`입력값`이 없을 수도 있고 `결과값`이 없을 수도 있다.   \n",
    "함수가 존재해야 함수를 호출할 수 있기 때문에 함수의 생성이 언제나 먼저 이루어져야 한다.\n",
    "\n",
    ">함수 생성: `def function_name(parm) :`\n",
    ">\n",
    ">함수 호출: `function_name(argu)`\n",
    "\n",
    "- 결과값 return\n",
    "- 입력값 (argu)"
   ]
  },
  {
   "cell_type": "markdown",
   "id": "769f4ac5",
   "metadata": {},
   "source": [
    "### 내장 함수\n",
    "> built-in function\n",
    "\n",
    "#### 형변환 함수\n",
    "- list() 문자열이나 튜플을\n",
    "- tuple()\n",
    "- int() 정수인 숫자형으로 변환합니다.\n",
    "    그러나 숫자로 이뤄진 문자가 아니면 오류가 발생한다.\n",
    "    + isdigit() 숫자인지 확인하는 함수\n",
    "- str() 문자열로 변환합니다.\n",
    "\n",
    "#### 그 외 함수\n",
    "- input() 사용자에게 입력을 받습니다.\n",
    "> [코딩테스트에서 유용한 input 함수 사용법](https://itcrowd2016.tistory.com/81)\n",
    "    > \n",
    "    >보통 map(),list() input().split() 이정도를 제일 많이 사용한다.\n",
    "- len() 변수의 길이를 반환합니다. \n",
    "    숫자형은 사용할 수 없습니다.\n",
    "- range() 리스트를 만들어주는 함수\n",
    "(min,max는 같은 자료들의모음에서 사용이 가능합니다.)\n",
    "- max() 최대값을 반환해 줍니다.\n",
    "- min() 최소값을 반환해 줍니다.\n",
    "\n",
    "문자열의 최소값 최대값은 아스키값을 바탕으로 계산을 합니다.\n",
    "> 아스키 값은 A = 65, a = 97로 대문자와 소문자가 32만큼 차이가 납니다.\n",
    "> 아스키코드와 관련된 함수는 `ord`, `chr`이 있습니다.\n",
    "\n",
    "> `ord` 문자열을 아스키 코드로 바꿔줍니다.\n",
    "> `chr` 아스키코드를 문자열로 바꿔줍니다."
   ]
  },
  {
   "cell_type": "code",
   "execution_count": 76,
   "id": "afd9d682",
   "metadata": {},
   "outputs": [
    {
     "name": "stdout",
     "output_type": "stream",
     "text": [
      "7\n",
      "7\n",
      "z\n",
      "acb\n"
     ]
    }
   ],
   "source": [
    "str1 = \"hello,z\"\n",
    "list1 = [1,2,3,4,5,6,7]\n",
    "list2 = ['abc', 'acb']\n",
    "\n",
    "print(len(str1))\n",
    "print(len(list1))\n",
    "print(max(str1))\n",
    "print(max(list2))\n",
    "# 첫번째문자부터 차례대로 비교합니다. 문자의 수가 같다면 먼저 큰 수의 아스키 코드가 나온 문자열이 반환됩니다."
   ]
  }
 ],
 "metadata": {
  "kernelspec": {
   "display_name": "Python 3",
   "language": "python",
   "name": "python3"
  },
  "language_info": {
   "codemirror_mode": {
    "name": "ipython",
    "version": 3
   },
   "file_extension": ".py",
   "mimetype": "text/x-python",
   "name": "python",
   "nbconvert_exporter": "python",
   "pygments_lexer": "ipython3",
   "version": "3.8.8"
  }
 },
 "nbformat": 4,
 "nbformat_minor": 5
}
